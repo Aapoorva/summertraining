{
 "cells": [
  {
   "cell_type": "code",
   "execution_count": 4,
   "metadata": {
    "scrolled": true
   },
   "outputs": [
    {
     "name": "stdout",
     "output_type": "stream",
     "text": [
      "https://www.youtube.com/watch?v=YQHsXMglC9A\n",
      "https://www.youtube.com/watch?v=YQHsXMglC9A\n",
      "https://www.youtube.com/watch?v=Pc4zmtCJZBc\n",
      "https://www.youtube.com/watch?v=Pc4zmtCJZBc\n",
      "https://www.japantimes.co.jp/news/2018/05/18/national/hello-kitty-bullet-train-debut-japan-june-30/\n",
      "https://www.japantimes.co.jp/news/2018/05/18/national/hello-kitty-bullet-train-debut-japan-june-30/\n",
      "https://www.hellomagazine.com/celebrities/2018052048763/suits-cast-royal-wedding-reception-karaoke/\n",
      "https://www.hellomagazine.com/royalty/2018051948724/inside-prince-harry-meghan-royal-wedding-reception/\n",
      "https://www.hellomagazine.com/\n",
      "https://en.wikipedia.org/wiki/Hello_(Adele_song)\n",
      "https://hello.com/\n",
      "https://en.wiktionary.org/wiki/hello\n",
      "https://en.oxforddictionaries.com/definition/hello\n",
      "https://www.hellodesign.com/\n",
      "https://dictionary.cambridge.org/dictionary/english/hello\n"
     ]
    }
   ],
   "source": [
    "# %load webScrapUrls.py\n",
    "#!/usr/bin/env python3\n",
    "#to load web page content from url\n",
    "import requests\n",
    "#to parse html of web page\n",
    "from bs4 import BeautifulSoup\n",
    "\n",
    "#url where to fetch data\n",
    "url=\"https://google.com/search?q=hello\"\n",
    "#create instance of page\n",
    "page=requests.get(url)\n",
    "\n",
    "#to parse html page is stored in BeautifulSoup format\n",
    "soup=BeautifulSoup(page.content,'html5lib')\n",
    "\n",
    "#to print html in nested structure\n",
    "# print(soup.prettify())\n",
    "\n",
    "#to fetch a tag\n",
    "# print(soup.title.string) #to fetch and print title\n",
    "\n",
    "#to fetch all url in page\n",
    "#to find <a> tag which contain href\n",
    "all_links=soup.find_all(\"a\")\n",
    "for link in all_links :\n",
    "    #print link which is present in href attribute\n",
    "    link_href=link.get(\"href\")\n",
    "    #filter search result urls\n",
    "    if \"url?q=\" in link_href and not \"webcache\" in link_href :\n",
    "        #to replace url codes like ? as %3F and = as %3D as =\n",
    "        if \"%3F\" in link_href:\n",
    "            link_href=link_href.replace(\"%3F\",\"?\")\n",
    "        if \"%3D\" in link_href:\n",
    "            link_href=link_href.replace(\"%3D\",\"=\")\n",
    "        #removing /url?q= from the link\n",
    "        link_url=link_href.split('url?q=')[1]\n",
    "        #filtering usefull part of url\n",
    "        link_final=link_url.split('&sa=U')[0]\n",
    "        print(link_final)"
   ]
  },
  {
   "cell_type": "code",
   "execution_count": null,
   "metadata": {},
   "outputs": [],
   "source": []
  }
 ],
 "metadata": {
  "kernelspec": {
   "display_name": "Python 3",
   "language": "python",
   "name": "python3"
  },
  "language_info": {
   "codemirror_mode": {
    "name": "ipython",
    "version": 3
   },
   "file_extension": ".py",
   "mimetype": "text/x-python",
   "name": "python",
   "nbconvert_exporter": "python",
   "pygments_lexer": "ipython3",
   "version": "3.5.2"
  }
 },
 "nbformat": 4,
 "nbformat_minor": 2
}

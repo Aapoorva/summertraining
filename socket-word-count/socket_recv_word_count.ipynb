{
 "cells": [
  {
   "cell_type": "code",
   "execution_count": null,
   "metadata": {},
   "outputs": [
    {
     "name": "stdout",
     "output_type": "stream",
     "text": [
      "[['get', [1]], ['great', [1]], ['hello', [8]], ['is', [2]], ['the', [2]], ['this', [2]], ['world', [4]]]\n"
     ]
    },
    {
     "data": {
      "text/plain": [
       "<Figure size 640x480 with 1 Axes>"
      ]
     },
     "metadata": {},
     "output_type": "display_data"
    },
    {
     "name": "stdout",
     "output_type": "stream",
     "text": [
      "['get', 'great', 'hello', 'is', 'the', 'this', 'world']\n",
      "[1, 1, 8, 2, 2, 2, 4]\n"
     ]
    }
   ],
   "source": [
    "#!/usr/bin/env python3\n",
    "import socket\n",
    "import numpy as np\n",
    "import matplotlib.pyplot as plt\n",
    "\n",
    "#functions\n",
    "# to count word\n",
    "def count_words(input_list):\n",
    "    \"To count words and create unique list of elements\"\n",
    "    unique_list=[]\n",
    "    for i in input_list :\n",
    "        elmnt=[i,[input_list.count(i)]]\n",
    "        if elmnt[1][0]>1:\n",
    "            elmnt_index=input_list.index(i)\n",
    "            for x in range(elmnt_index, elmnt_index+elmnt[1][0]-1):\n",
    "                del input_list[elmnt_index]\n",
    "        unique_list.append(elmnt)\n",
    "    return unique_list\n",
    "\n",
    "# # to merge lists\n",
    "# def concat_list(pre_uniq_list,uniq_list):\n",
    "# \t\"To merge previous and new list of inputs\"\n",
    "# \t#when input for first time or after refresh\n",
    "# \tif len(pre_uniq_list)==0:\n",
    "# \t\treturn uniq_list\n",
    "# \t#assuming and assigning each word occurence next time is 0\n",
    "# \tfor y in pre_uniq_list:\n",
    "# \t\ty[1].append(0)\n",
    "# \t#merging\n",
    "# \tfor x in uniq_list:\n",
    "# \t\tw_found=0\n",
    "# \t\tfor y in pre_uniq_list:\n",
    "# \t\t\tif x[0]==y[0]:\n",
    "# \t\t\t\tw_found=1\n",
    "# \t\t\t\ty[1][-1]=x[1][0]\n",
    "# \t\t\t\tbreak\n",
    "# \t\tif w_found==0:\n",
    "# \t\t\tx[1].insert(0,0)\n",
    "# \t\t\tpre_uniq_list.append(x)\n",
    "# \treturn pre_uniq_list\n",
    "\n",
    "# plot graph\n",
    "def plot_graph(pre_uniq_list) :\n",
    "    x_list=[]\n",
    "    y_list=[]\n",
    "    for x in pre_uniq_list :\n",
    "        x_list.append(x[0])\n",
    "        y_list.append(x[1][0])\n",
    "    plt.bar(x_list,y_list)\n",
    "    plt.show()\n",
    "    print(x_list)\n",
    "    print(y_list)\n",
    "\n",
    "#socket connection\n",
    "rec_ip=\"127.0.0.1\"\n",
    "rec_port=9999                      \n",
    "#  creating a socket - s \n",
    "#                     ipv4           UDP \n",
    "s=socket.socket(socket.AF_INET,socket.SOCK_DGRAM)\n",
    "#  binding ip  and port \n",
    "s.bind((rec_ip,rec_port)) \n",
    "#  receiving data\n",
    "input_list=[]\n",
    "# pre_uniq_list=[]\n",
    "count=0\n",
    "while True :\n",
    "    #counting words after interval of 6 message\n",
    "    if  count!=0 and count%5 == 0:\n",
    "        input_list.sort()\n",
    "        #words counted here\n",
    "        uniq_list = count_words(input_list)\n",
    "        #previous list combined with new data\n",
    "# \t\tpre_uniq_list = concat_list(pre_uniq_list,uniq_list)\n",
    "        print(uniq_list)\n",
    "        plot_graph(uniq_list)\n",
    "        input_list.clear()\t#to store next set of input\n",
    "# \t\tprint(\"\\n\\n\")\n",
    "\n",
    "    count+=1\n",
    "    #receive data\n",
    "    data=s.recvfrom(1000)\n",
    "\n",
    "    #convert byte to string\n",
    "    data_input=data[0].decode()\n",
    "    #storing data to list\n",
    "    #space removed and split\n",
    "    if data_input.find(\" \")!=-1 :\n",
    "        data_input=data_input.strip().split()\n",
    "        input_list=input_list+data_input\n",
    "    #no space added as element\n",
    "    else :\n",
    "        input_list.append(data_input)"
   ]
  },
  {
   "cell_type": "code",
   "execution_count": null,
   "metadata": {},
   "outputs": [],
   "source": []
  }
 ],
 "metadata": {
  "kernelspec": {
   "display_name": "Python 3",
   "language": "python",
   "name": "python3"
  },
  "language_info": {
   "codemirror_mode": {
    "name": "ipython",
    "version": 3
   },
   "file_extension": ".py",
   "mimetype": "text/x-python",
   "name": "python",
   "nbconvert_exporter": "python",
   "pygments_lexer": "ipython3",
   "version": "3.5.2"
  }
 },
 "nbformat": 4,
 "nbformat_minor": 2
}
